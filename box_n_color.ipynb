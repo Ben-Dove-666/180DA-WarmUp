{
 "cells": [
  {
   "cell_type": "code",
   "execution_count": 1,
   "id": "f34028a8",
   "metadata": {},
   "outputs": [],
   "source": [
    "# set path \n",
    "import os\n",
    "os.chdir('C:/Users/Ming Guo 69/Desktop/180DA-WarmUp')\n",
    "\n"
   ]
  },
  {
   "cell_type": "code",
   "execution_count": 2,
   "id": "5942f22d",
   "metadata": {},
   "outputs": [],
   "source": [
    "# imports \n",
    "import cv2\n",
    "import numpy as np\n",
    "import matplotlib.pyplot as plt\n",
    "from sklearn.cluster import KMeans"
   ]
  },
  {
   "cell_type": "code",
   "execution_count": 3,
   "id": "6defd14f",
   "metadata": {},
   "outputs": [],
   "source": [
    "#contour functions for drawing contour on complex shapes \n",
    "#note: i added a line where it also return a cropped image of within the box \n",
    "\n",
    "# This function allows us to create a descending sorted list of contour areas.\n",
    "def contour_area(contours):\n",
    "     \n",
    "    # create an empty list\n",
    "    cnt_area = []\n",
    "     \n",
    "    # loop through all the contours\n",
    "    for i in range(0,len(contours),1):\n",
    "        # for each contour, use OpenCV to calculate the area of the contour\n",
    "        cnt_area.append(cv2.contourArea(contours[i]))\n",
    " \n",
    "    # Sort our list of contour areas in descending order\n",
    "    list.sort(cnt_area, reverse=True)\n",
    "    return cnt_area\n",
    "\n",
    "def draw_bounding_box(contours, image, number_of_boxes=1):\n",
    "    # Call our function to get the list of contour areas\n",
    "    cnt_area = contour_area(contours)\n",
    " \n",
    "    # Loop through each contour of our image\n",
    "    for i in range(0,len(contours),1):\n",
    "        cnt = contours[i]\n",
    " \n",
    "        # Only draw the the largest number of boxes\n",
    "        if (cv2.contourArea(cnt) >= cnt_area[number_of_boxes]):\n",
    "             \n",
    "            # Use OpenCV boundingRect function to get the details of the contour\n",
    "            x,y,w,h = cv2.boundingRect(cnt)\n",
    "             \n",
    "            # crop by typing y first then x \n",
    "            # also do this before next step so the rect line is not in cropped image\n",
    "            cropped = image[y:y+h, x:x+w]\n",
    "            # Draw the bounding box\n",
    "            image=cv2.rectangle(image,(x,y),(x+w,y+h),(0,0,255),2)\n",
    "            \n",
    "            \n",
    " \n",
    "    return image, cropped "
   ]
  },
  {
   "cell_type": "code",
   "execution_count": 61,
   "id": "71cb91f5",
   "metadata": {},
   "outputs": [
    {
     "data": {
      "text/plain": [
       "\"\\ncv2.imshow('mask', mask)\\ncv2.waitKey(0)\\ncv2.destroyAllWindows()\\n\""
      ]
     },
     "execution_count": 61,
     "metadata": {},
     "output_type": "execute_result"
    }
   ],
   "source": [
    "# import image\n",
    "blu = cv2.imread('blu.jpeg', 1)\n",
    "# change color domian\n",
    "hsv = cv2.cvtColor(blu, cv2.COLOR_BGR2HSV)\n",
    "\n",
    "# find blue part of image\n",
    "lower_blue = np.array([110,50,50])\n",
    "upper_blue = np.array([130,255,255])\n",
    "# Threshold the HSV image to get only blue colors\n",
    "mask = cv2.inRange(hsv, lower_blue, upper_blue)\n",
    "# Bitwise-AND mask and original image\n",
    "res = cv2.bitwise_and(blu,blu, mask= mask)\n",
    "'''\n",
    "cv2.imshow('frame',blu)\n",
    "cv2.imshow('mask',mask)\n",
    "cv2.imshow('res',res)\n",
    "cv2.waitKey(0)\n",
    "cv2.destroyAllWindows()\n",
    "'''\n",
    "'''\n",
    "cv2.imshow('mask', mask)\n",
    "cv2.waitKey(0)\n",
    "cv2.destroyAllWindows()\n",
    "'''"
   ]
  },
  {
   "cell_type": "code",
   "execution_count": 62,
   "id": "fe05d861",
   "metadata": {},
   "outputs": [],
   "source": [
    "# use mask for box \n",
    "# invert mask so the box is right \n",
    "mask_inv = cv2.bitwise_not(mask)\n",
    "\n",
    "# find contours \n",
    "#ret,thresh = cv2.threshold(mask_inv,127,255,0)\n",
    "contours, _ = cv2.findContours(mask,cv2.RETR_TREE,cv2.CHAIN_APPROX_SIMPLE)"
   ]
  },
  {
   "cell_type": "code",
   "execution_count": 63,
   "id": "7027a96a",
   "metadata": {},
   "outputs": [],
   "source": [
    "blu_with_contour = cv2.drawContours(blu, contours, -1, [0,0,255], 2)\n",
    "cv2.imshow('contour', blu_with_contour)\n",
    "cv2.waitKey(0)\n",
    "cv2.destroyAllWindows()"
   ]
  },
  {
   "cell_type": "code",
   "execution_count": 64,
   "id": "2453bc38",
   "metadata": {},
   "outputs": [
    {
     "data": {
      "text/plain": [
       "16"
      ]
     },
     "execution_count": 64,
     "metadata": {},
     "output_type": "execute_result"
    }
   ],
   "source": [
    "len(contours)"
   ]
  },
  {
   "cell_type": "code",
   "execution_count": 65,
   "id": "5b2e8b40",
   "metadata": {},
   "outputs": [],
   "source": [
    "contour_size = np.ones(len(contours))\n",
    "for i in range(len(contours)):\n",
    "    contour_size[i] = cv2.contourArea(contours[i])\n",
    "    \n",
    "\n",
    "    "
   ]
  },
  {
   "cell_type": "code",
   "execution_count": 66,
   "id": "fffbc2ab",
   "metadata": {},
   "outputs": [
    {
     "data": {
      "text/plain": [
       "93511.5"
      ]
     },
     "execution_count": 66,
     "metadata": {},
     "output_type": "execute_result"
    }
   ],
   "source": [
    "max(contour_size)\n"
   ]
  },
  {
   "cell_type": "code",
   "execution_count": 67,
   "id": "d00a4284",
   "metadata": {},
   "outputs": [],
   "source": [
    "for i in contours:\n",
    "    if cv2.contourArea(i) == max(contour_size):\n",
    "        x,y,w,h = cv2.boundingRect(i)\n",
    "        blu_with_box = cv2.rectangle(blu,(x,y),(x+w,y+h),(255,255,0),5)\n",
    "\n",
    "cv2.imshow('box', blu_with_box)\n",
    "cv2.waitKey(0)\n",
    "cv2.destroyAllWindows()"
   ]
  },
  {
   "cell_type": "code",
   "execution_count": 16,
   "id": "cd68095a",
   "metadata": {},
   "outputs": [],
   "source": [
    "#draw contour around the orig image with colors \n",
    "blu_cont,blu_cropp = draw_bounding_box(contours, blu)\n",
    "cv2.imshow(\"Bounding Rectangle\", blu)\n",
    "cv2.waitKey(0)\n",
    "cv2.destroyAllWindows()"
   ]
  },
  {
   "cell_type": "code",
   "execution_count": 14,
   "id": "3225b6be",
   "metadata": {},
   "outputs": [],
   "source": [
    "# crop image to within the box for color inspection \n",
    "cv2.imshow(\"Bounding Rectangle\", blu_cropp)\n",
    "cv2.waitKey(0)\n",
    "cv2.destroyAllWindows()"
   ]
  },
  {
   "cell_type": "code",
   "execution_count": 15,
   "id": "d150f730",
   "metadata": {},
   "outputs": [],
   "source": [
    "# color detetction inside the box "
   ]
  },
  {
   "cell_type": "code",
   "execution_count": 16,
   "id": "de018d35",
   "metadata": {},
   "outputs": [],
   "source": [
    "def find_histogram(clt):\n",
    "    \"\"\"\n",
    "    create a histogram with k clusters\n",
    "    :param: clt\n",
    "    :return:hist\n",
    "    \"\"\"\n",
    "    numLabels = np.arange(0, len(np.unique(clt.labels_)) + 1)\n",
    "    (hist, _) = np.histogram(clt.labels_, bins=numLabels)\n",
    "\n",
    "    hist = hist.astype(\"float\")\n",
    "    hist /= hist.sum()\n",
    "\n",
    "    return hist\n",
    "\n",
    "def plot_colors2(hist, centroids):\n",
    "    bar = np.zeros((50, 300, 3), dtype=\"uint8\")\n",
    "    startX = 0\n",
    "\n",
    "    for (percent, color) in zip(hist, centroids):\n",
    "        # plot the relative percentage of each cluster\n",
    "        endX = startX + (percent * 300)\n",
    "        cv2.rectangle(bar, (int(startX), 0), (int(endX), 50),\n",
    "                      color.astype(\"uint8\").tolist(), -1)\n",
    "        startX = endX\n",
    "\n",
    "    # return the bar chart\n",
    "    return bar"
   ]
  },
  {
   "cell_type": "code",
   "execution_count": 17,
   "id": "1ecea4af",
   "metadata": {},
   "outputs": [
    {
     "name": "stderr",
     "output_type": "stream",
     "text": [
      "C:\\ProgramData\\Anaconda3\\envs\\env1\\lib\\site-packages\\sklearn\\cluster\\_kmeans.py:870: FutureWarning: The default value of `n_init` will change from 10 to 'auto' in 1.4. Set the value of `n_init` explicitly to suppress the warning\n",
      "  warnings.warn(\n"
     ]
    },
    {
     "data": {
      "image/png": "[encoded data removed]",
      "text/plain": [
       "<Figure size 640x480 with 1 Axes>"
      ]
     },
     "metadata": {},
     "output_type": "display_data"
    }
   ],
   "source": [
    "img = blu_cropp\n",
    "img = cv2.cvtColor(img, cv2.COLOR_BGR2RGB)\n",
    "img = img.reshape((img.shape[0] * img.shape[1],3)) #represent as row*column,channel number\n",
    "clt = KMeans(n_clusters=3) #cluster number\n",
    "clt.fit(img)\n",
    "\n",
    "hist = find_histogram(clt)\n",
    "bar = plot_colors2(hist, clt.cluster_centers_)\n",
    "\n",
    "plt.axis(\"off\")\n",
    "plt.imshow(bar)\n",
    "plt.show()"
   ]
  },
  {
   "cell_type": "code",
   "execution_count": 18,
   "id": "0e7f5baf",
   "metadata": {},
   "outputs": [],
   "source": [
    "def box(img, lower_col=np.array([110,50,50]), upper_col=np.array([130,255,255])):\n",
    "    # Convert BGR to HSV\n",
    "    hsv = cv2.cvtColor(img, cv2.COLOR_BGR2HSV)\n",
    "    # Threshold the HSV image to get only specified colors\n",
    "    mask = cv2.inRange(hsv, lower_col, upper_col)\n",
    "    # Bitwise-AND mask and original image\n",
    "    # res = cv.bitwise_and(frame,frame, mask= mask)\n",
    "    \n",
    "    # use mask for box \n",
    "    # invert mask so the box is right \n",
    "    mask_inv = cv2.bitwise_not(mask)\n",
    "\n",
    "    # find contours \n",
    "    ret,thresh = cv2.threshold(mask_inv,127,255,0)\n",
    "    contours, _ = cv2.findContours(thresh,cv2.RETR_TREE,cv2.CHAIN_APPROX_SIMPLE)\n",
    "    \n",
    "    #produce boxed frame and cropped boxed frame \n",
    "    boxed,cropped = draw_bounding_box(contours, img)\n",
    "    \n",
    "    return boxed, cropped"
   ]
  },
  {
   "cell_type": "code",
   "execution_count": 19,
   "id": "41730915",
   "metadata": {},
   "outputs": [],
   "source": [
    "blu = cv2.imread('blu.jpeg', 1)\n",
    "a,b = box(blu)\n",
    "\n"
   ]
  },
  {
   "cell_type": "code",
   "execution_count": 20,
   "id": "bc82aba0",
   "metadata": {},
   "outputs": [],
   "source": [
    "cv2.imshow(\"Bounding Rectangle\", a)\n",
    "cv2.waitKey(0)\n",
    "cv2.destroyAllWindows()"
   ]
  },
  {
   "cell_type": "code",
   "execution_count": null,
   "id": "916c6a42",
   "metadata": {},
   "outputs": [],
   "source": []
  }
 ],
 "metadata": {
  "kernelspec": {
   "display_name": "env1",
   "language": "python",
   "name": "env1"
  },
  "language_info": {
   "codemirror_mode": {
    "name": "ipython",
    "version": 3
   },
   "file_extension": ".py",
   "mimetype": "text/x-python",
   "name": "python",
   "nbconvert_exporter": "python",
   "pygments_lexer": "ipython3",
   "version": "3.10.8"
  }
 },
 "nbformat": 4,
 "nbformat_minor": 5
}
